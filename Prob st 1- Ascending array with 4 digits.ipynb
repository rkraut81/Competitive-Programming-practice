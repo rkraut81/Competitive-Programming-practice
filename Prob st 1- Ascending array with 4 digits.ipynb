{
 "cells": [
  {
   "cell_type": "markdown",
   "metadata": {},
   "source": [
    "# Problem St 1 : Suppose we input an array of integers from 1000 to 9999 . Write a program to change one digit from the numbers in the array and the o/p array should be in ascending order\n",
    "    \n",
    "    ex: Input array : Any number between 1000 to 9999 i.e [1095,1094,1095 ]\n",
    "        Output array : [1005,1014,1015]"
   ]
  },
  {
   "cell_type": "code",
   "execution_count": 2,
   "metadata": {},
   "outputs": [],
   "source": [
    "DIGITS=4\n",
    "MIN=1000\n",
    "MAX=9999\n",
    "\n",
    "def getBest(prev,cur) :\n",
    "    maximum=max(MIN,prev)\n",
    "    \n",
    "    for i in range (maximum, MAX + 1):\n",
    "        cnt=0\n",
    "        a=i\n",
    "        b=cur\n",
    "        \n",
    "        for k in range(DIGITS):\n",
    "            if (a%10 != b%10):\n",
    "                cnt += 1\n",
    "            \n",
    "            a=a//10\n",
    "            b=b//10\n",
    "    \n",
    "        if (cnt<=1):\n",
    "            return i\n",
    "        \n",
    "    return -1"
   ]
  },
  {
   "cell_type": "code",
   "execution_count": 6,
   "metadata": {},
   "outputs": [],
   "source": [
    "def getList(arr,n):\n",
    "    myList=[]\n",
    "    possible = True\n",
    "    myList.append(0)\n",
    "    \n",
    "    for i in range(n):\n",
    "        cur=arr[i]\n",
    "        myList.append(getBest(myList[-1], cur));\n",
    "        \n",
    "        if (myList(-1)==-1):\n",
    "            possible= False\n",
    "            break\n",
    "            \n",
    "    if (possible):\n",
    "        for i in range(1, len(myList)):\n",
    "            print (myList[i], end=\" \")\n",
    "            \n",
    "    else:\n",
    "        print (\"-1\")"
   ]
  },
  {
   "cell_type": "code",
   "execution_count": 5,
   "metadata": {},
   "outputs": [
    {
     "ename": "TypeError",
     "evalue": "'list' object is not callable",
     "output_type": "error",
     "traceback": [
      "\u001b[1;31m---------------------------------------------------------------------------\u001b[0m",
      "\u001b[1;31mTypeError\u001b[0m                                 Traceback (most recent call last)",
      "\u001b[1;32m<ipython-input-5-5256556aeffc>\u001b[0m in \u001b[0;36m<module>\u001b[1;34m()\u001b[0m\n\u001b[0;32m      4\u001b[0m     \u001b[0marr\u001b[0m\u001b[1;33m=\u001b[0m\u001b[1;33m[\u001b[0m\u001b[1;36m1095\u001b[0m\u001b[1;33m,\u001b[0m\u001b[1;36m1094\u001b[0m\u001b[1;33m,\u001b[0m\u001b[1;36m1095\u001b[0m\u001b[1;33m]\u001b[0m\u001b[1;33m\u001b[0m\u001b[0m\n\u001b[0;32m      5\u001b[0m     \u001b[0mn\u001b[0m\u001b[1;33m=\u001b[0m \u001b[0mlen\u001b[0m\u001b[1;33m(\u001b[0m\u001b[0marr\u001b[0m\u001b[1;33m)\u001b[0m\u001b[1;33m\u001b[0m\u001b[0m\n\u001b[1;32m----> 6\u001b[1;33m     \u001b[0mgetList\u001b[0m\u001b[1;33m(\u001b[0m\u001b[0marr\u001b[0m\u001b[1;33m,\u001b[0m\u001b[0mn\u001b[0m\u001b[1;33m)\u001b[0m\u001b[1;33m\u001b[0m\u001b[0m\n\u001b[0m",
      "\u001b[1;32m<ipython-input-3-e9c17c3a14b9>\u001b[0m in \u001b[0;36mgetList\u001b[1;34m(arr, n)\u001b[0m\n\u001b[0;32m      7\u001b[0m         \u001b[0mcur\u001b[0m\u001b[1;33m=\u001b[0m\u001b[0marr\u001b[0m\u001b[1;33m[\u001b[0m\u001b[0mi\u001b[0m\u001b[1;33m]\u001b[0m\u001b[1;33m\u001b[0m\u001b[0m\n\u001b[0;32m      8\u001b[0m \u001b[1;33m\u001b[0m\u001b[0m\n\u001b[1;32m----> 9\u001b[1;33m         \u001b[0mmyList\u001b[0m\u001b[1;33m.\u001b[0m\u001b[0mappend\u001b[0m\u001b[1;33m(\u001b[0m\u001b[0mgetBest\u001b[0m\u001b[1;33m(\u001b[0m\u001b[0mmyList\u001b[0m\u001b[1;33m(\u001b[0m\u001b[1;33m-\u001b[0m\u001b[1;36m1\u001b[0m\u001b[1;33m)\u001b[0m\u001b[1;33m,\u001b[0m\u001b[0mcur\u001b[0m\u001b[1;33m)\u001b[0m\u001b[1;33m)\u001b[0m\u001b[1;33m\u001b[0m\u001b[0m\n\u001b[0m\u001b[0;32m     10\u001b[0m \u001b[1;33m\u001b[0m\u001b[0m\n\u001b[0;32m     11\u001b[0m         \u001b[1;32mif\u001b[0m \u001b[1;33m(\u001b[0m\u001b[0mmyList\u001b[0m\u001b[1;33m(\u001b[0m\u001b[1;33m-\u001b[0m\u001b[1;36m1\u001b[0m\u001b[1;33m)\u001b[0m\u001b[1;33m==\u001b[0m\u001b[1;33m-\u001b[0m\u001b[1;36m1\u001b[0m\u001b[1;33m)\u001b[0m\u001b[1;33m:\u001b[0m\u001b[1;33m\u001b[0m\u001b[0m\n",
      "\u001b[1;31mTypeError\u001b[0m: 'list' object is not callable"
     ]
    }
   ],
   "source": [
    "\n",
    "# Driver code \n",
    "if __name__ == \"__main__\" :\n",
    "    arr=[1095,1094,1095]\n",
    "    n= len(arr)\n",
    "    getList(arr,n)"
   ]
  },
  {
   "cell_type": "code",
   "execution_count": null,
   "metadata": {},
   "outputs": [],
   "source": []
  }
 ],
 "metadata": {
  "kernelspec": {
   "display_name": "Python 3",
   "language": "python",
   "name": "python3"
  },
  "language_info": {
   "codemirror_mode": {
    "name": "ipython",
    "version": 3
   },
   "file_extension": ".py",
   "mimetype": "text/x-python",
   "name": "python",
   "nbconvert_exporter": "python",
   "pygments_lexer": "ipython3",
   "version": "3.6.4"
  }
 },
 "nbformat": 4,
 "nbformat_minor": 2
}
